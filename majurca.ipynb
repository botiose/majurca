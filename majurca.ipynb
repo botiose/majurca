{
 "cells": [
  {
   "cell_type": "code",
   "execution_count": 129,
   "metadata": {},
   "outputs": [
    {
     "name": "stdout",
     "output_type": "stream",
     "text": [
      "Found 636 images belonging to 7 classes.\n",
      "Found 70 images belonging to 7 classes.\n"
     ]
    }
   ],
   "source": [
    "from tensorflow.keras.preprocessing.image import ImageDataGenerator \n",
    "\n",
    "train_datagen = ImageDataGenerator(\n",
    "        rescale=1./255,\n",
    "        horizontal_flip=True,\n",
    "        vertical_flip=True,\n",
    "        rotation_range=20,\n",
    "        brightness_range=[0.3,1.0],\n",
    "        validation_split=0.1\n",
    ")\n",
    "\n",
    "batch_size = 64\n",
    "shape = (224, 224)\n",
    "\n",
    "base_dir = \"/home/otiose/repos/epita/majurca/\"\n",
    "\n",
    "data_dir = base_dir + \"data\"\n",
    "\n",
    "train_generator = train_datagen.flow_from_directory(\n",
    "        directory=data_dir,\n",
    "        target_size=shape,\n",
    "        batch_size=batch_size,\n",
    "        subset=\"training\",\n",
    "        class_mode=\"categorical\")\n",
    "\n",
    "validation_generator = train_datagen.flow_from_directory(\n",
    "        directory=data_dir,\n",
    "        target_size=shape,\n",
    "        batch_size=batch_size,\n",
    "        subset=\"validation\",\n",
    "        class_mode=\"categorical\",\n",
    "        shuffle=False\n",
    "    )"
   ]
  },
  {
   "cell_type": "code",
   "execution_count": 2,
   "metadata": {},
   "outputs": [],
   "source": [
    "from sklearn.utils import class_weight\n",
    "import numpy as np\n",
    "\n",
    "class_weights_arr = class_weight.compute_class_weight(\n",
    "    class_weight=\"balanced\",\n",
    "    classes=np.unique(train_generator.classes), \n",
    "    y=train_generator.classes\n",
    ")\n",
    "\n",
    "class_weights = dict(enumerate(class_weights_arr))"
   ]
  },
  {
   "cell_type": "code",
   "execution_count": 3,
   "metadata": {},
   "outputs": [],
   "source": [
    "inputShape = (shape+(3,))\n",
    "outputShape = 7"
   ]
  },
  {
   "cell_type": "code",
   "execution_count": 4,
   "metadata": {},
   "outputs": [],
   "source": [
    "from tensorflow.keras.applications import VGG16\n",
    "from tensorflow.keras.layers import (\n",
    "    Flatten, \n",
    "    Dense,\n",
    "    GlobalAveragePooling2D, \n",
    "    Dropout\n",
    ")\n",
    "from tensorflow.keras.models import Model, Sequential\n",
    "\n",
    "base_model = VGG16(weights=\"imagenet\", include_top=False)\n",
    "\n",
    "#x = base_model.output\n",
    "#x = Flatten()(x)\n",
    "#output = Dense(outputShape, activation='softmax')(x)\n",
    "\n",
    "\n",
    "x = base_model.get_layer('block5_conv3').output\n",
    "x = GlobalAveragePooling2D()(x)\n",
    "x = Dense(256, activation='relu')(x)\n",
    "x = Dropout(0.5)(x)\n",
    "x = Dense(outputShape, activation='sigmoid')(x)\n",
    "\n",
    "model = Model(inputs=base_model.inputs, outputs=x)"
   ]
  },
  {
   "cell_type": "code",
   "execution_count": 5,
   "metadata": {},
   "outputs": [
    {
     "name": "stdout",
     "output_type": "stream",
     "text": [
      "Epoch 1/10\n",
      "10/10 [==============================] - 31s 3s/step - loss: 2.0071 - accuracy: 0.1384 - val_loss: 1.9403 - val_accuracy: 0.1429\n",
      "Epoch 2/10\n",
      "10/10 [==============================] - 10s 1s/step - loss: 1.9640 - accuracy: 0.1352 - val_loss: 1.9293 - val_accuracy: 0.2000\n",
      "Epoch 3/10\n",
      "10/10 [==============================] - 10s 1s/step - loss: 1.9431 - accuracy: 0.1651 - val_loss: 1.9246 - val_accuracy: 0.2857\n",
      "Epoch 4/10\n",
      "10/10 [==============================] - 10s 1s/step - loss: 1.9313 - accuracy: 0.1824 - val_loss: 1.9154 - val_accuracy: 0.2429\n",
      "Epoch 5/10\n",
      "10/10 [==============================] - 11s 1s/step - loss: 1.9309 - accuracy: 0.1918 - val_loss: 1.9122 - val_accuracy: 0.3000\n",
      "Epoch 6/10\n",
      "10/10 [==============================] - 10s 1s/step - loss: 1.9103 - accuracy: 0.2075 - val_loss: 1.8865 - val_accuracy: 0.2571\n",
      "Epoch 7/10\n",
      "10/10 [==============================] - 10s 992ms/step - loss: 1.8984 - accuracy: 0.2201 - val_loss: 1.8694 - val_accuracy: 0.3714\n",
      "Epoch 8/10\n",
      "10/10 [==============================] - 10s 1s/step - loss: 1.8725 - accuracy: 0.2343 - val_loss: 1.8435 - val_accuracy: 0.3143\n",
      "Epoch 9/10\n",
      "10/10 [==============================] - 10s 998ms/step - loss: 1.8662 - accuracy: 0.2437 - val_loss: 1.8131 - val_accuracy: 0.2571\n",
      "Epoch 10/10\n",
      "10/10 [==============================] - 10s 995ms/step - loss: 1.8323 - accuracy: 0.3035 - val_loss: 1.7937 - val_accuracy: 0.4000\n"
     ]
    }
   ],
   "source": [
    "from tensorflow.keras.optimizers import Adam, SGD\n",
    "from tensorflow.keras.models import clone_model\n",
    "\n",
    "for layer in base_model.layers:\n",
    "    layer.trainable = False\n",
    "\n",
    "#optimizer = SGD(lr=0.2, momentum=0.9, decay=0.01)\n",
    "optimizer = Adam()\n",
    "\n",
    "model.compile(\n",
    "    loss='categorical_crossentropy',\n",
    "    optimizer=optimizer,\n",
    "    metrics=['accuracy']\n",
    ")\n",
    "\n",
    "history = model.fit(\n",
    "    train_generator,\n",
    "    validation_data=validation_generator,\n",
    "    class_weight=class_weights,\n",
    "    epochs=10\n",
    ")"
   ]
  },
  {
   "cell_type": "code",
   "execution_count": null,
   "metadata": {},
   "outputs": [],
   "source": [
    "for layer in base_model.layers:\n",
    "    layer.trainable = True\n",
    "\n",
    "optimizer = Adam(lr=1e-5)\n",
    "\n",
    "model.compile(\n",
    "    optimizer=optimizer,\n",
    "    loss='categorical_crossentropy',\n",
    "    metrics=['accuracy']\n",
    ")"
   ]
  },
  {
   "cell_type": "code",
   "execution_count": 95,
   "metadata": {},
   "outputs": [],
   "source": [
    "from tensorflow.keras.models import load_model\n",
    "\n",
    "model = load_model(base_dir + \"model/model-02/model.h5\")"
   ]
  },
  {
   "cell_type": "code",
   "execution_count": 53,
   "metadata": {},
   "outputs": [
    {
     "name": "stdout",
     "output_type": "stream",
     "text": [
      "Epoch 1/10\n",
      "10/10 [==============================] - 11s 1s/step - loss: 0.0163 - accuracy: 1.0000 - val_loss: 0.4688 - val_accuracy: 0.9143\n",
      "Epoch 2/10\n",
      "10/10 [==============================] - 10s 1s/step - loss: 0.0376 - accuracy: 0.9906 - val_loss: 0.6147 - val_accuracy: 0.8571\n",
      "Epoch 3/10\n",
      "10/10 [==============================] - 10s 1s/step - loss: 0.0270 - accuracy: 0.9953 - val_loss: 0.4834 - val_accuracy: 0.8857\n",
      "Epoch 4/10\n",
      "10/10 [==============================] - 10s 1s/step - loss: 0.0281 - accuracy: 0.9953 - val_loss: 0.5534 - val_accuracy: 0.8857\n",
      "Epoch 5/10\n",
      "10/10 [==============================] - 10s 1s/step - loss: 0.0243 - accuracy: 0.9953 - val_loss: 0.5672 - val_accuracy: 0.8857\n",
      "Epoch 6/10\n",
      "10/10 [==============================] - 10s 1s/step - loss: 0.0507 - accuracy: 0.9890 - val_loss: 0.6994 - val_accuracy: 0.8286\n",
      "Epoch 7/10\n",
      "10/10 [==============================] - 10s 1s/step - loss: 0.0325 - accuracy: 0.9969 - val_loss: 0.6197 - val_accuracy: 0.8857\n",
      "Epoch 8/10\n",
      "10/10 [==============================] - 10s 1s/step - loss: 0.0242 - accuracy: 0.9969 - val_loss: 0.8113 - val_accuracy: 0.8286\n",
      "Epoch 9/10\n",
      "10/10 [==============================] - 10s 1s/step - loss: 0.0320 - accuracy: 0.9969 - val_loss: 0.5495 - val_accuracy: 0.9143\n",
      "Epoch 10/10\n",
      "10/10 [==============================] - 11s 1s/step - loss: 0.0405 - accuracy: 0.9921 - val_loss: 0.6378 - val_accuracy: 0.8571\n"
     ]
    }
   ],
   "source": [
    "history = model.fit(\n",
    "    x=train_generator,\n",
    "    validation_data=validation_generator,\n",
    "    class_weight=class_weights,\n",
    "    epochs=300\n",
    ")"
   ]
  },
  {
   "cell_type": "code",
   "execution_count": 10,
   "metadata": {},
   "outputs": [],
   "source": [
    "import os\n",
    "import pandas as pd\n",
    "from tensorflow.keras.models import save_model\n",
    "\n",
    "model_dir = base_dir + \"model/\"\n",
    "\n",
    "dirlist = os.listdir(model_dir)\n",
    "if len(dirlist) == 0:\n",
    "    iteration = \"01\"\n",
    "else:\n",
    "    last_iteration = int(dirlist[-1].split(\"-\")[1])\n",
    "    iteration = \"{:02d}\".format(last_iteration + 1)\n",
    "\n",
    "save_dir = model_dir + \"model-\" + iteration + \"/\"\n",
    "os.mkdir(save_dir)\n",
    "\n",
    "save_model(model, save_dir + \"model.h5\", save_format=\"h5\")\n",
    "hist_df = pd.DataFrame(history.history) \n",
    "hist_csv_file = save_dir + \"history.csv\"\n",
    "\n",
    "with open(hist_csv_file, mode='w') as f:\n",
    "    hist_df.to_csv(f)"
   ]
  },
  {
   "cell_type": "code",
   "execution_count": 132,
   "metadata": {},
   "outputs": [],
   "source": [
    "from sklearn.metrics import confusion_matrix, classification_report\n",
    "\n",
    "y_pred_prob = model.predict(validation_generator)\n",
    "y_pred = np.argmax(y_pred_prob, axis=1)\n",
    "y_true = validation_generator.classes"
   ]
  },
  {
   "cell_type": "code",
   "execution_count": 134,
   "metadata": {},
   "outputs": [
    {
     "name": "stdout",
     "output_type": "stream",
     "text": [
      "                     precision    recall  f1-score   support\n",
      "\n",
      "       pe-hd-opaque       1.00      1.00      1.00        10\n",
      "         pet-colore       0.73      0.80      0.76        10\n",
      "pet-barquette-clair       0.73      0.80      0.76        10\n",
      "         pet-opaque       1.00      1.00      1.00        10\n",
      "                 pp       0.90      0.90      0.90        10\n",
      "          pet-fonce       0.82      0.90      0.86        10\n",
      "          pet-clair       1.00      0.70      0.82        10\n",
      "\n",
      "           accuracy                           0.87        70\n",
      "          macro avg       0.88      0.87      0.87        70\n",
      "       weighted avg       0.88      0.87      0.87        70\n",
      "\n"
     ]
    }
   ],
   "source": [
    "target_names = [os.path.basename(path) for path in glob(data_dir + \"/*\")]\n",
    "\n",
    "print(classification_report(y_true, y_pred, target_names=target_names))"
   ]
  },
  {
   "cell_type": "code",
   "execution_count": 135,
   "metadata": {},
   "outputs": [
    {
     "data": {
      "image/png": "[encoded data removed]",
      "text/plain": [
       "<matplotlib.figure.Figure at 0x7f97860635f8>"
      ]
     },
     "metadata": {
      "needs_background": "light"
     },
     "output_type": "display_data"
    }
   ],
   "source": [
    "import seaborn as sn\n",
    "import pandas as pd\n",
    "from glob import glob\n",
    "import matplotlib.pyplot as plt\n",
    "\n",
    "cm = confusion_matrix(y_true, y_pred)\n",
    "\n",
    "df_cm = pd.DataFrame(cm, index = labels, columns = labels)\n",
    "plt.figure(figsize = (10,7))\n",
    "sn.heatmap(df_cm, annot=True,cmap=plt.cm.Blues)\n",
    "plt.show()"
   ]
  }
 ],
 "metadata": {
  "kernelspec": {
   "display_name": "Python 3",
   "language": "python",
   "name": "python3"
  },
  "language_info": {
   "codemirror_mode": {
    "name": "ipython",
    "version": 3
   },
   "file_extension": ".py",
   "mimetype": "text/x-python",
   "name": "python",
   "nbconvert_exporter": "python",
   "pygments_lexer": "ipython3",
   "version": "3.7.3"
  }
 },
 "nbformat": 4,
 "nbformat_minor": 4
}
