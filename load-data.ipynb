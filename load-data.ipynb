{
 "cells": [
  {
   "cell_type": "code",
   "execution_count": 6,
   "metadata": {},
   "outputs": [
    {
     "data": {
      "text/plain": [
       "64293"
      ]
     },
     "execution_count": 6,
     "metadata": {},
     "output_type": "execute_result"
    }
   ],
   "source": [
    "import pandas as pd\n",
    "import numpy as np\n",
    "\n",
    "df = pd.read_csv(\"/home/otiose/tmp/selection.csv\")\n",
    "df = df.dropna()\n",
    "len(df)"
   ]
  },
  {
   "cell_type": "code",
   "execution_count": 7,
   "metadata": {},
   "outputs": [],
   "source": [
    "labels, indices = np.unique(df.name, return_inverse=True)\n",
    "lowercased = np.char.lower(labels.astype(str))\n",
    "dashed = np.char.replace(lowercased, \" \", \"-\")"
   ]
  },
  {
   "cell_type": "code",
   "execution_count": 8,
   "metadata": {},
   "outputs": [],
   "source": [
    "dashed[8] = \"pet-colore\"\n",
    "dashed[12] = \"pet-fonce\"\n",
    "dashed[15] = \"ps-6\""
   ]
  },
  {
   "cell_type": "code",
   "execution_count": 9,
   "metadata": {},
   "outputs": [],
   "source": [
    "import os\n",
    "\n",
    "for label in dashed:\n",
    "    os.mkdir(\"data/\" + label)"
   ]
  },
  {
   "cell_type": "code",
   "execution_count": 14,
   "metadata": {},
   "outputs": [
    {
     "name": "stdout",
     "output_type": "stream",
     "text": [
      "64292/64293\r"
     ]
    }
   ],
   "source": [
    "import requests\n",
    "\n",
    "for i in range(56024, len(df)):\n",
    "    print(str(i) + \"/\" + str(len(df)), end=\"\\r\")\n",
    "    row = df.iloc[i]\n",
    "    label = dashed[indices[i]]\n",
    "    name = row[\"path\"].split(\"/\")[-1]\n",
    "    url = row[\"thumbnail_320x200\"]\n",
    "    r = requests.get(url, allow_redirects=True, timeout=10)\n",
    "    open(\"data/\" + label + \"/\" + name, \"wb\").write(r.content)"
   ]
  }
 ],
 "metadata": {
  "kernelspec": {
   "display_name": "Python 3",
   "language": "python",
   "name": "python3"
  },
  "language_info": {
   "codemirror_mode": {
    "name": "ipython",
    "version": 3
   },
   "file_extension": ".py",
   "mimetype": "text/x-python",
   "name": "python",
   "nbconvert_exporter": "python",
   "pygments_lexer": "ipython3",
   "version": "3.7.3"
  }
 },
 "nbformat": 4,
 "nbformat_minor": 4
}
