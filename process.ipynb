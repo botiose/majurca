{
 "cells": [
  {
   "cell_type": "code",
   "execution_count": 11,
   "id": "d11c9488-f330-426d-a025-0bd1a598b06a",
   "metadata": {},
   "outputs": [],
   "source": [
    "import os\n",
    "import numpy as np\n",
    "import cv2\n",
    "from matplotlib import pyplot as plt"
   ]
  },
  {
   "cell_type": "code",
   "execution_count": 9,
   "id": "bcb3ae27-fe6c-4b68-8f0c-eeb0a17911cb",
   "metadata": {},
   "outputs": [],
   "source": [
    "#!rm -rf side-cropped && mkdir side-cropped\n",
    "searchDirectories = os.listdir(\"data\")\n",
    "\n",
    "for directory in searchDirectories:\n",
    "    !mkdir side-cropped/$directory\n",
    "    for imageFile in os.listdir(\"side/\" + directory):\n",
    "        img = cv2.imread(\"side/\" + directory + \"/\" + imageFile)\n",
    "        croppedImage = img[:, 117:239]\n",
    "        if not cv2.imwrite(\"side-cropped/\" + directory + \"/\" + imageFile, croppedImage):\n",
    "            print(\"failed\")\n",
    "        #print(croppedImage.shape)"
   ]
  },
  {
   "cell_type": "code",
   "execution_count": 57,
   "id": "9dddd216-dbd1-4c78-b74c-ed6319fe4dc4",
   "metadata": {},
   "outputs": [
    {
     "name": "stdout",
     "output_type": "stream",
     "text": [
      "[157 174 146]\n"
     ]
    }
   ],
   "source": [
    "#img = cv2.imread(\"data/pet-barquette-clair/2020-07-18-09-37-55-194276-CAM192-168-0-32K.png\")\n",
    "img = cv2.imread(\"data/pe-hd-opaque/2020-04-06-11-26-34-686154-CAM192-168-0-32K.png\")\n",
    "#img = cv2.imread(\"data/pe-hd-opaque/2020-07-21-18-52-50-205199-CAM192-168-0-32K.png\")\n",
    "mask = img[168:200, 280:300]\n",
    "colors, count = np.unique(mask.reshape(-1,mask.shape[-1]), axis=0, return_counts=True)\n",
    "print(colors[count.argmax()])"
   ]
  }
 ],
 "metadata": {
  "kernelspec": {
   "display_name": "Python 3 (ipykernel)",
   "language": "python",
   "name": "python3"
  },
  "language_info": {
   "codemirror_mode": {
    "name": "ipython",
    "version": 3
   },
   "file_extension": ".py",
   "mimetype": "text/x-python",
   "name": "python",
   "nbconvert_exporter": "python",
   "pygments_lexer": "ipython3",
   "version": "3.9.2"
  }
 },
 "nbformat": 4,
 "nbformat_minor": 5
}
