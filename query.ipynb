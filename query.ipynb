{
 "cells": [
  {
   "cell_type": "code",
   "execution_count": 1,
   "id": "8f704c44-9350-42e2-8ef4-5d00a88ded7b",
   "metadata": {},
   "outputs": [],
   "source": [
    "import os\n",
    "os.environ['TF_CPP_MIN_LOG_LEVEL'] = '3'\n",
    "from DeepImageSearch import Index,LoadData,SearchImage"
   ]
  },
  {
   "cell_type": "code",
   "execution_count": 4,
   "id": "4f301199-c03a-42db-8184-216bbfba08ea",
   "metadata": {},
   "outputs": [],
   "source": [
    "def extract_similar(image, dst):\n",
    "    searchDirectories = os.listdir(\"data\")\n",
    "    searchDirectories = [\"data/\" + directory for directory in searchDirectories]\n",
    "\n",
    "    !rm -rf $dst && mkdir $dst\n",
    "    \n",
    "    for directory in searchDirectories:\n",
    "        #Index(image_list).Start()\n",
    "        category = directory.split('/')[1]\n",
    "        dstSub = dst + \"/\" + category\n",
    "        \n",
    "        indexSub = \"index/\" + category\n",
    "        \n",
    "        !mkdir $dstSub\n",
    "        !rm -rf meta-data-files && cp -r $indexSub meta-data-files\n",
    "        \n",
    "        extractCount = len(os.listdir(\"data/\" + category))\n",
    "        \n",
    "        curDir = [directory]\n",
    "        image_list = LoadData().from_folder(curDir)\n",
    "        similar = SearchImage().get_similar_images(image_path=image, number_of_images=extractCount)\n",
    "\n",
    "        similarImagePaths = list(similar.values())\n",
    "\n",
    "        for i in range(len(similarImagePaths)):\n",
    "            file = similarImagePaths[i]\n",
    "            split = file.split('/')\n",
    "            target = dst + \"/\" + split[1] + \"/\" + str(i).zfill(4) + \".png\"\n",
    "            !ln -s $(pwd)/$file $(pwd)/$target"
   ]
  },
  {
   "cell_type": "code",
   "execution_count": null,
   "id": "5f7b9f49-e307-49cd-8042-f2669a2548ed",
   "metadata": {},
   "outputs": [],
   "source": [
    "extract_similar(\"data/pet-barquette-clair/2020-04-08-10-28-33-956172-CAM192-168-0-31H.png\", \"top\")"
   ]
  },
  {
   "cell_type": "code",
   "execution_count": null,
   "id": "0d3f70cd-8670-4d64-9b6b-8e6128b84674",
   "metadata": {},
   "outputs": [],
   "source": [
    "extract_similar(\"data/pe-hd-opaque/2020-04-06-11-26-34-686154-CAM192-168-0-32K.png\", \"side\")"
   ]
  }
 ],
 "metadata": {
  "kernelspec": {
   "display_name": "Python 3 (ipykernel)",
   "language": "python",
   "name": "python3"
  },
  "language_info": {
   "codemirror_mode": {
    "name": "ipython",
    "version": 3
   },
   "file_extension": ".py",
   "mimetype": "text/x-python",
   "name": "python",
   "nbconvert_exporter": "python",
   "pygments_lexer": "ipython3",
   "version": "3.9.2"
  }
 },
 "nbformat": 4,
 "nbformat_minor": 5
}
